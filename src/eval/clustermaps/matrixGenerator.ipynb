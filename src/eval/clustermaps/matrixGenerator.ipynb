{
 "cells": [
  {
   "cell_type": "code",
   "execution_count": 27,
   "id": "ed110a4d-a0ff-49fc-8d0c-5a0e6f37267e",
   "metadata": {},
   "outputs": [],
   "source": [
    "import torch\n",
    "import sys\n",
    "sys.path.append('../../data_processing')\n",
    "sys.path.append('../../model')\n",
    "sys.path.append('../../../data')\n",
    "import CNN, CNN_multimodal, CNN_LSTM\n",
    "import TF_data_loader\n",
    "from torch.utils import data as D\n",
    "import numpy as np\n",
    "from sklearn.metrics import PrecisionRecallDisplay, RocCurveDisplay\n",
    "from sklearn.metrics import precision_recall_curve, average_precision_score, roc_curve, auc\n",
    "import matplotlib.pyplot as plt\n",
    "from tqdm.notebook import tqdm"
   ]
  },
  {
   "cell_type": "code",
   "execution_count": 28,
   "id": "64f454e3-3ef7-41b3-995c-fc13152c3cc9",
   "metadata": {},
   "outputs": [],
   "source": [
    "feat_map = torch.load('../../../data/Chipseq_data/FeatMap.pt')\n",
    "feat_map = {v: k for k, v in feat_map.items()}"
   ]
  },
  {
   "cell_type": "code",
   "execution_count": 29,
   "id": "868f3bae-949f-4eeb-8358-fac14a022fe1",
   "metadata": {},
   "outputs": [],
   "source": [
    "sorted_sequence_score_topten = torch.load('sorted_sequence_score_topten.pt')"
   ]
  },
  {
   "cell_type": "code",
   "execution_count": 30,
   "id": "19ae8fde-21f5-4bd1-8311-86a7a6f9eef0",
   "metadata": {},
   "outputs": [],
   "source": [
    "def matrix_generator(cell_line_index):\n",
    "    union_matrix = np.zeros((len(cell_line_index), len(cell_line_index)), dtype=int)\n",
    "    for i, j in np.ndindex(union_matrix.shape):\n",
    "        union_matrix[i, j] = sum(1 for oneseq in cell_line_index[i] for otherseq in cell_line_index[j] if oneseq[4] == otherseq[4])\n",
    "    return union_matrix"
   ]
  },
  {
   "cell_type": "code",
   "execution_count": 42,
   "id": "88c6f259-2edd-4823-a32c-f8f1c0d4b569",
   "metadata": {},
   "outputs": [],
   "source": [
    "YY1_cell_line_index = [4, 36, 42, 53, 94, 125]\n",
    "All_cell_line_index = [4, 36, 42, 53, 94, 125]\n",
    "\n",
    "swap = [i for i in range(130) if i not in YY1_cell_line_index]\n",
    "for element in swap:\n",
    "    All_cell_line_index.append(element)"
   ]
  },
  {
   "cell_type": "code",
   "execution_count": 45,
   "id": "4c13fed5-39b1-45d3-8317-8752f589fa70",
   "metadata": {},
   "outputs": [],
   "source": [
    "All_sequences = []\n",
    "for index in All_cell_line_index:\n",
    "    for cell_line in sorted_sequence_score_topten:\n",
    "        if cell_line[0][0] == feat_map[index]:\n",
    "            All_sequences.append(cell_line)"
   ]
  },
  {
   "cell_type": "code",
   "execution_count": 47,
   "id": "37e89213-170b-4be9-bd9d-a33ee7978d2b",
   "metadata": {},
   "outputs": [],
   "source": [
    "YY1_sequences = []\n",
    "for index in YY1_cell_line_index:\n",
    "    for cell_line in sorted_sequence_score_topten:\n",
    "        if cell_line[0][0] == feat_map[index]:\n",
    "            YY1_sequences.append(cell_line)"
   ]
  },
  {
   "cell_type": "code",
   "execution_count": 58,
   "id": "3c1239e5-572e-41a7-9d14-4f1091fe3327",
   "metadata": {},
   "outputs": [
    {
     "name": "stdout",
     "output_type": "stream",
     "text": [
      "[[10  2  2  3  2  4]\n",
      " [ 2 10  3  3  3  5]\n",
      " [ 2  3 10  4  1  2]\n",
      " [ 3  3  4 10  0  3]\n",
      " [ 2  3  1  0 10  1]\n",
      " [ 4  5  2  3  1 10]]\n"
     ]
    }
   ],
   "source": [
    "YY1 = matrix_generator(YY1_sequences)\n",
    "print(result)"
   ]
  },
  {
   "cell_type": "code",
   "execution_count": 50,
   "id": "2b95f374-82c7-4a21-ad3a-f97403669a6b",
   "metadata": {},
   "outputs": [],
   "source": [
    "np.set_printoptions(threshold=sys.maxsize)"
   ]
  },
  {
   "cell_type": "code",
   "execution_count": 55,
   "id": "d6ac8f2d-c690-4af4-a465-4ad403d63e0b",
   "metadata": {},
   "outputs": [],
   "source": [
    "All = matrix_generator(All_sequences)"
   ]
  },
  {
   "cell_type": "code",
   "execution_count": 57,
   "id": "dc26f4af-604a-46f1-8a3d-994d5b37665d",
   "metadata": {},
   "outputs": [],
   "source": [
    "np.savetxt('union_matrix_all.csv', All, delimiter=',')"
   ]
  },
  {
   "cell_type": "code",
   "execution_count": 59,
   "id": "1b352fff-70c6-4cdd-ae16-2c7b92e44d22",
   "metadata": {},
   "outputs": [],
   "source": [
    "np.savetxt('union_matrix_YY1.csv', YY1, delimiter=',')"
   ]
  }
 ],
 "metadata": {
  "kernelspec": {
   "display_name": "Python 3 (ipykernel)",
   "language": "python",
   "name": "python3"
  },
  "language_info": {
   "codemirror_mode": {
    "name": "ipython",
    "version": 3
   },
   "file_extension": ".py",
   "mimetype": "text/x-python",
   "name": "python",
   "nbconvert_exporter": "python",
   "pygments_lexer": "ipython3",
   "version": "3.9.12"
  }
 },
 "nbformat": 4,
 "nbformat_minor": 5
}
