{
 "cells": [
  {
   "cell_type": "code",
   "execution_count": 1,
   "id": "e6a1a444-b71c-4193-82d1-11913f2ff144",
   "metadata": {},
   "outputs": [],
   "source": [
    "# Assuming your data is in a file named \"data.txt\"\n",
    "input_file = \"../../../data/data_to_waqaas/gcPBMdata_ForRegression/Seqs/Mad.txt\"\n",
    "output_file = \"Mad.fasta\"\n",
    "\n",
    "with open(input_file, \"r\") as infile, open(output_file, \"w\") as outfile:\n",
    "    for n, line in enumerate(infile):\n",
    "        sequence, affinity_score = line.strip().split(\"\\t\")\n",
    "        outfile.write(f\">{n}\\n{sequence}\\n\")"
   ]
  },
  {
   "cell_type": "code",
   "execution_count": 2,
   "id": "e83422dc-77fd-4f7f-a389-5aaf3fafb2eb",
   "metadata": {},
   "outputs": [],
   "source": [
    "# Assuming your data is in a file named \"data.txt\"\n",
    "input_file = \"../../../data/data_to_waqaas/gcPBMdata_ForRegression/Seqs/Max.txt\"\n",
    "output_file = \"Max.fasta\"\n",
    "\n",
    "with open(input_file, \"r\") as infile, open(output_file, \"w\") as outfile:\n",
    "    for n, line in enumerate(infile):\n",
    "        sequence, affinity_score = line.strip().split(\"\\t\")\n",
    "        outfile.write(f\">{n}\\n{sequence}\\n\")"
   ]
  },
  {
   "cell_type": "code",
   "execution_count": 3,
   "id": "0cc8bbe6-b6d8-40b4-92fb-360a684ffdd1",
   "metadata": {},
   "outputs": [],
   "source": [
    "# Assuming your data is in a file named \"data.txt\"\n",
    "input_file = \"../../../data/data_to_waqaas/gcPBMdata_ForRegression/Seqs/Myc.txt\"\n",
    "output_file = \"Myc.fasta\"\n",
    "\n",
    "with open(input_file, \"r\") as infile, open(output_file, \"w\") as outfile:\n",
    "    for n, line in enumerate(infile):\n",
    "        sequence, affinity_score = line.strip().split(\"\\t\")\n",
    "        outfile.write(f\">{n}\\n{sequence}\\n\")"
   ]
  },
  {
   "cell_type": "code",
   "execution_count": 9,
   "id": "e56e6ef5-f431-4fb9-a502-80f1babcc8f9",
   "metadata": {},
   "outputs": [],
   "source": [
    "# Assuming your data is in a file named \"data.txt\"\n",
    "input_file = \"../../../data/data_to_waqaas/gcPBMdata_ForRegression/Seqs/Myc.txt\"\n",
    "joiner_file = \"../../../data/data_to_waqaas/gcPBMdata_ForRegression/Seqs/Mad.txt\"\n",
    "third_file = \"../../../data/data_to_waqaas/gcPBMdata_ForRegression/Seqs/Max.txt\"\n",
    "output_file = \"MycMad.fasta\"\n",
    "other_file = \"MadMax.fasta\"\n",
    "uff_file = \"MaxMyc.fasta\""
   ]
  },
  {
   "cell_type": "code",
   "execution_count": 7,
   "id": "112280a9-a60f-42f5-a3fd-a9ec67c6602d",
   "metadata": {},
   "outputs": [],
   "source": [
    "with open(input_file, \"r\") as infile, open(joiner_file, \"r\") as joinfile, open(output_file, \"w\") as outfile:\n",
    "    count = 0\n",
    "    for line in infile:\n",
    "        sequence, affinity_score = line.strip().split(\"\\t\")\n",
    "        outfile.write(f\">{count}\\n{sequence}\\n\")\n",
    "        count += 1\n",
    "    for line in joinfile:\n",
    "        sequence, affinity_score = line.strip().split(\"\\t\")\n",
    "        outfile.write(f\">{count}\\n{sequence}\\n\")\n",
    "        count += 1"
   ]
  },
  {
   "cell_type": "code",
   "execution_count": 10,
   "id": "435f0d84-5c94-4090-bc82-825496e3c5af",
   "metadata": {},
   "outputs": [],
   "source": [
    "with open(joiner_file, \"r\") as infile, open(third_file, \"r\") as joinfile, open(other_file, \"w\") as outfile:\n",
    "    count = 0\n",
    "    for line in infile:\n",
    "        sequence, affinity_score = line.strip().split(\"\\t\")\n",
    "        outfile.write(f\">{count}\\n{sequence}\\n\")\n",
    "        count += 1\n",
    "    for line in joinfile:\n",
    "        sequence, affinity_score = line.strip().split(\"\\t\")\n",
    "        outfile.write(f\">{count}\\n{sequence}\\n\")\n",
    "        count += 1"
   ]
  },
  {
   "cell_type": "code",
   "execution_count": 11,
   "id": "19abb14f-d62c-4ae1-b2bb-139649e79dfb",
   "metadata": {},
   "outputs": [],
   "source": [
    "with open(third_file, \"r\") as infile, open(input_file, \"r\") as joinfile, open(uff_file, \"w\") as outfile:\n",
    "    count = 0\n",
    "    for line in infile:\n",
    "        sequence, affinity_score = line.strip().split(\"\\t\")\n",
    "        outfile.write(f\">{count}\\n{sequence}\\n\")\n",
    "        count += 1\n",
    "    for line in joinfile:\n",
    "        sequence, affinity_score = line.strip().split(\"\\t\")\n",
    "        outfile.write(f\">{count}\\n{sequence}\\n\")\n",
    "        count += 1"
   ]
  }
 ],
 "metadata": {
  "kernelspec": {
   "display_name": "Python 3 (ipykernel)",
   "language": "python",
   "name": "python3"
  },
  "language_info": {
   "codemirror_mode": {
    "name": "ipython",
    "version": 3
   },
   "file_extension": ".py",
   "mimetype": "text/x-python",
   "name": "python",
   "nbconvert_exporter": "python",
   "pygments_lexer": "ipython3",
   "version": "3.9.12"
  }
 },
 "nbformat": 4,
 "nbformat_minor": 5
}
