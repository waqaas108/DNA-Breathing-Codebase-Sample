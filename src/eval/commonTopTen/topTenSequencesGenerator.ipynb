{
 "cells": [
  {
   "cell_type": "code",
   "execution_count": 1,
   "id": "ed110a4d-a0ff-49fc-8d0c-5a0e6f37267e",
   "metadata": {},
   "outputs": [],
   "source": [
    "import torch\n",
    "import sys\n",
    "import pickle\n",
    "sys.path.append('../../data_processing')\n",
    "sys.path.append('../../model')\n",
    "sys.path.append('../../../data')\n",
    "import CNN_LSTM\n",
    "import TF_data_loader\n",
    "from torch.utils import data as D\n",
    "import numpy as np\n",
    "import pandas as pd\n",
    "from tqdm.notebook import tqdm"
   ]
  },
  {
   "cell_type": "code",
   "execution_count": 2,
   "id": "d5b34518-df08-4b12-b105-711a0cbbae9c",
   "metadata": {},
   "outputs": [],
   "source": [
    "torch.set_printoptions(threshold=torch.inf)\n",
    "np.set_printoptions(threshold=np.inf)"
   ]
  },
  {
   "cell_type": "code",
   "execution_count": 3,
   "id": "b958e4b1-f4b5-42a1-80e0-00576277e52d",
   "metadata": {},
   "outputs": [],
   "source": [
    "test_set = TF_data_loader.TF_data(data_path = '../../../data/Chipseq_data/seq_normalized_breathing_feat.pkl', partition = 'test' )\n",
    "test_loader = D.DataLoader(test_set, batch_size = 128, num_workers = 0)"
   ]
  },
  {
   "cell_type": "code",
   "execution_count": 4,
   "id": "4c7d96c7-4e9f-4902-88e3-3d098dce6065",
   "metadata": {},
   "outputs": [],
   "source": [
    "null_test_set = TF_data_loader.TF_data(data_path = '../../../data/Chipseq_data/seq_gaussiannoise_breathing_feat.pkl', partition = 'test' )\n",
    "null_test_loader = D.DataLoader(null_test_set, batch_size = 128, num_workers = 0)"
   ]
  },
  {
   "cell_type": "code",
   "execution_count": 5,
   "id": "444ed22f-f1ca-48e7-b415-6cb6f043b757",
   "metadata": {},
   "outputs": [],
   "source": [
    "model_path = '../../../trained_model/DSTF_CNN/TF_biofeat_hybrid_n'\n",
    "device = torch.device('cuda')\n",
    "check_point = torch.load(model_path, map_location=device)\n",
    "hybrid_model = CNN_LSTM.CNN_LSTM(num_target=130, input_channels = 7)\n",
    "hybrid_model.load_state_dict(check_point['state_dict'])\n",
    "hybrid_model = hybrid_model.cuda(0)"
   ]
  },
  {
   "cell_type": "code",
   "execution_count": 6,
   "id": "f02151bb-3b85-4ab2-a066-f125aa01a77c",
   "metadata": {},
   "outputs": [],
   "source": [
    "null_model_path = '../../../trained_model/DSTF_CNN/TF_biofeat_hybrid_g'\n",
    "null_device = torch.device('cuda')\n",
    "null_check_point = torch.load(null_model_path, map_location=null_device)\n",
    "null_hybrid_model = CNN_LSTM.CNN_LSTM(num_target=130, input_channels = 7)\n",
    "null_hybrid_model.load_state_dict(null_check_point['state_dict'])\n",
    "null_hybrid_model = null_hybrid_model.cuda(0)"
   ]
  },
  {
   "cell_type": "code",
   "execution_count": 7,
   "id": "64f454e3-3ef7-41b3-995c-fc13152c3cc9",
   "metadata": {},
   "outputs": [],
   "source": [
    "feat_map = torch.load('../../../data/Chipseq_data/FeatMap.pt')\n",
    "feat_map = {v: k for k, v in feat_map.items()}"
   ]
  },
  {
   "cell_type": "code",
   "execution_count": 8,
   "id": "3329a45b-7fa4-4316-b15e-280114274abe",
   "metadata": {},
   "outputs": [],
   "source": [
    "def onehot2seq(matrix):\n",
    "    seq = ''\n",
    "    for i in range(matrix.shape[1]):\n",
    "        if matrix[0][i] == 1:\n",
    "            nt = \"A\"\n",
    "        elif matrix[1][i] == 1:\n",
    "            nt = \"G\"\n",
    "        elif matrix[2][i] == 1:\n",
    "            nt = \"C\"\n",
    "        elif matrix[3][i] == 1:\n",
    "            nt = \"T\"\n",
    "        seq += nt\n",
    "    return(seq)"
   ]
  },
  {
   "cell_type": "code",
   "execution_count": 9,
   "id": "c64962a4-b3db-4f38-8846-04a49c7af5f6",
   "metadata": {},
   "outputs": [],
   "source": [
    "# cell_line_index = [i for i in range(130)]\n",
    "\n",
    "# sorted_sequence_score_compendium = [[] for i in cell_line_index]\n",
    "# sorted_sequence_score_topten = [[] for i in cell_line_index]\n",
    "# sequence_score = [[] for i in cell_line_index]\n",
    "\n",
    "# pbar2 = tqdm(total = len(test_loader))\n",
    "\n",
    "# for seq, bio_feat, label in test_loader:\n",
    "#     pbar2.update()\n",
    "#     null_biofeat = torch.zeros_like(bio_feat)\n",
    "#     input_feat = torch.cat([seq.cuda(0), bio_feat.cuda(0)], dim = 1).requires_grad_()\n",
    "#     null_input_feat = torch.cat([seq.cuda(0), null_biofeat.cuda(0)], dim = 1).requires_grad_()\n",
    "#     pred_tf = hybrid_model(input_feat)\n",
    "#     null_pred_tf = hybrid_model(null_input_feat)\n",
    "#     diff_tf = pred_tf - null_pred_tf\n",
    "#     for i in range(label.size(0)):\n",
    "#         for index in cell_line_index:\n",
    "#             if label[i, index].item() == 1:\n",
    "#                 sequence = onehot2seq(seq[i])\n",
    "#                 diff = diff_tf[i, index].item()\n",
    "#                 pred_tf_c = pred_tf[i, index].item()\n",
    "#                 null_pred_tf_c = null_pred_tf[i, index].item()\n",
    "#                 feature_vector = bio_feat[i]\n",
    "#                 sequence_score[index].append([feat_map[index], diff, pred_tf_c, null_pred_tf_c, sequence, feature_vector])\n",
    "\n",
    "# pbar2.close()\n",
    "\n",
    "# for n, index in enumerate(sequence_score):\n",
    "#     sorted_index = sorted(index, key=lambda x: x[1], reverse=True)\n",
    "#     sorted_sequence_score_compendium[n] = sorted_index\n",
    "#     sorted_sequence_score_topten[n] = sorted_index[:10]"
   ]
  },
  {
   "cell_type": "code",
   "execution_count": 10,
   "id": "9d87cde3-db74-46f4-8e9a-d40d8454df0e",
   "metadata": {},
   "outputs": [],
   "source": [
    "# sorted_sequence_score_compendium = []\n",
    "sorted_sequence_score_topten = []"
   ]
  },
  {
   "cell_type": "code",
   "execution_count": 11,
   "id": "1164c74f-ccf8-42d6-a03c-f183b2dac855",
   "metadata": {},
   "outputs": [
    {
     "data": {
      "application/vnd.jupyter.widget-view+json": {
       "model_id": "2f0c786635e944e19091d766f1292e40",
       "version_major": 2,
       "version_minor": 0
      },
      "text/plain": [
       "  0%|          | 0/130 [00:00<?, ?it/s]"
      ]
     },
     "metadata": {},
     "output_type": "display_data"
    }
   ],
   "source": [
    "cell_line_index = [i for i in range(130)]\n",
    "pbar = tqdm(total = len(cell_line_index))\n",
    "\n",
    "for index in cell_line_index:\n",
    "    pbar.update()\n",
    "    sequence_score = []\n",
    "    for (seq, bio_feat, label), (null_seq, null_bio_feat, null_label) in zip(test_loader, null_test_loader):\n",
    "        # null_biofeat = torch.zeros_like(bio_feat)\n",
    "        input_feat = torch.cat([seq.cuda(0), bio_feat.cuda(0)], dim = 1).requires_grad_()\n",
    "        null_input_feat = torch.cat([null_seq.cuda(0), null_bio_feat.cuda(0)], dim = 1).requires_grad_()\n",
    "        pred_tf = hybrid_model(input_feat)\n",
    "        null_pred_tf = null_hybrid_model(null_input_feat)\n",
    "        diff_tf = pred_tf - null_pred_tf\n",
    "        for i in range(label.size(0)):\n",
    "            if label[i, index].item() == 1:\n",
    "                sequence = onehot2seq(seq[i])\n",
    "                diff = diff_tf[i, index].item()\n",
    "                pred_tf_c = pred_tf[i, index].item()\n",
    "                null_pred_tf_c = null_pred_tf[i, index].item()\n",
    "                feature_vector = bio_feat[i]\n",
    "                sequence_score.append([feat_map[index], diff, pred_tf_c, null_pred_tf_c, sequence, feature_vector])\n",
    "    sorted_sequence_score = sorted(sequence_score, key=lambda x: x[1], reverse=True)\n",
    "    # sorted_sequence_score_compendium.append(sorted_sequence_score)\n",
    "    sorted_sequence_score_topten.append(sorted_sequence_score[:10])"
   ]
  },
  {
   "cell_type": "code",
   "execution_count": 12,
   "id": "c2e4ec8a-1bac-439e-b308-3182c2a8b608",
   "metadata": {},
   "outputs": [],
   "source": [
    "# with open('normalized_topten_sequences.pickle', 'wb') as f:\n",
    "#     pickle.dump(sorted_sequence_score_compendium, f)\n",
    "#     pickle.dump(sorted_sequence_score_topten, f)"
   ]
  },
  {
   "cell_type": "code",
   "execution_count": 13,
   "id": "a9117eea-280b-421d-90f5-b6d2b7b0abb9",
   "metadata": {},
   "outputs": [],
   "source": [
    "# torch.save(sorted_sequence_score_compendium, 'sorted_sequence_score_compendium.pt')\n",
    "torch.save(sorted_sequence_score_topten, 'sorted_sequence_score_topten.pt')"
   ]
  },
  {
   "cell_type": "code",
   "execution_count": 17,
   "id": "873d883b-aa9e-4992-ba75-4e0e0b31a4b0",
   "metadata": {},
   "outputs": [],
   "source": [
    "YY1_sorted_sequence_score_topten = []\n",
    "other_sorted_sequence_score_topten = []"
   ]
  },
  {
   "cell_type": "code",
   "execution_count": 18,
   "id": "d4026e3f-499d-455a-afbe-f2e504e0df47",
   "metadata": {},
   "outputs": [],
   "source": [
    "for cell_line in sorted_sequence_score_topten:\n",
    "    if 'YY1' in cell_line[0][0]:\n",
    "        YY1_sorted_sequence_score_topten.append(cell_line)\n",
    "    else:\n",
    "        other_sorted_sequence_score_topten.append(cell_line)"
   ]
  },
  {
   "cell_type": "code",
   "execution_count": 33,
   "id": "18225c8e-c754-47f4-a4f4-465518b04a7d",
   "metadata": {},
   "outputs": [],
   "source": [
    "torch.save(YY1_sorted_sequence_score_topten, 'YY1_sorted_sequence_score_topten.pt')\n",
    "torch.save(other_sorted_sequence_score_topten, 'other_sorted_sequence_score_topten.pt')"
   ]
  }
 ],
 "metadata": {
  "kernelspec": {
   "display_name": "Python 3 (ipykernel)",
   "language": "python",
   "name": "python3"
  },
  "language_info": {
   "codemirror_mode": {
    "name": "ipython",
    "version": 3
   },
   "file_extension": ".py",
   "mimetype": "text/x-python",
   "name": "python",
   "nbconvert_exporter": "python",
   "pygments_lexer": "ipython3",
   "version": "3.9.12"
  }
 },
 "nbformat": 4,
 "nbformat_minor": 5
}
