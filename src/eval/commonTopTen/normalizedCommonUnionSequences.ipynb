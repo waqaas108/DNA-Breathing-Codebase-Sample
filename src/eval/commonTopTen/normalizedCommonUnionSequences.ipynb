{
 "cells": [
  {
   "cell_type": "code",
   "execution_count": 2,
   "id": "ed110a4d-a0ff-49fc-8d0c-5a0e6f37267e",
   "metadata": {},
   "outputs": [],
   "source": [
    "import torch\n",
    "import sys\n",
    "import pickle\n",
    "sys.path.append('../../data_processing')\n",
    "sys.path.append('../../model')\n",
    "sys.path.append('../../../data')\n",
    "import CNN, CNN_multimodal, CNN_LSTM\n",
    "import TF_data_loader\n",
    "from torch.utils import data as D\n",
    "import numpy as np\n",
    "import pandas as pd\n",
    "from tqdm.notebook import tqdm"
   ]
  },
  {
   "cell_type": "code",
   "execution_count": 3,
   "id": "d5b34518-df08-4b12-b105-711a0cbbae9c",
   "metadata": {},
   "outputs": [],
   "source": [
    "torch.set_printoptions(threshold=torch.inf)\n",
    "np.set_printoptions(threshold=np.inf)"
   ]
  },
  {
   "cell_type": "code",
   "execution_count": 4,
   "id": "5336761c-1907-4ff9-b803-b2c211888525",
   "metadata": {},
   "outputs": [],
   "source": [
    "YY1_sorted_sequence_score_topten = torch.load('YY1_sorted_sequence_score_topten.pt')\n",
    "other_sorted_sequence_score_topten = torch.load('other_sorted_sequence_score_topten.pt')"
   ]
  },
  {
   "cell_type": "code",
   "execution_count": 5,
   "id": "64f454e3-3ef7-41b3-995c-fc13152c3cc9",
   "metadata": {},
   "outputs": [],
   "source": [
    "feat_map = torch.load('../../../data/Chipseq_data/FeatMap.pt')\n",
    "feat_map = {v: k for k, v in feat_map.items()}"
   ]
  },
  {
   "cell_type": "code",
   "execution_count": 6,
   "id": "568cca2c-d78e-40e4-858b-7b4f1f59e592",
   "metadata": {},
   "outputs": [],
   "source": [
    "def sequence_union(data):\n",
    "    result = []\n",
    "    for group in data:\n",
    "        for row in group:\n",
    "            cell_line = row[0]\n",
    "            saliency = row[1]\n",
    "            predicted_score = row[2]\n",
    "            null_predicted_score = row[3]\n",
    "            sequence = row[4]\n",
    "            feature_vector = row[5]\n",
    "            found = False\n",
    "            for i, r in enumerate(result):\n",
    "                if r[4] == sequence:\n",
    "                    result[i][0] += ';' + str(cell_line)\n",
    "                    result[i][1] += ';' + str(saliency)\n",
    "                    result[i][2] += ';' + str(predicted_score)\n",
    "                    result[i][3] += ';' + str(null_predicted_score)\n",
    "                    found = True\n",
    "                    break\n",
    "            if not found:\n",
    "                result.append([str(cell_line), str(saliency), str(predicted_score), str(null_predicted_score), sequence, feature_vector])\n",
    "    return result"
   ]
  },
  {
   "cell_type": "code",
   "execution_count": 7,
   "id": "046bf4e9-e9c8-4445-9ac2-55daf8207656",
   "metadata": {},
   "outputs": [],
   "source": [
    "def sequence_comparison(YY1, other):\n",
    "    result = []\n",
    "    for row in YY1:\n",
    "        cell_line = row[0]\n",
    "        saliency = row[1]\n",
    "        predicted_score = row[2]\n",
    "        null_predicted_score = row[3]\n",
    "        sequence = row[4]\n",
    "        feature_vector = row[5]\n",
    "        intersections = []\n",
    "        for group in other:\n",
    "            for r in group:\n",
    "                if r[4] == sequence:\n",
    "                    if r[0] not in intersections:\n",
    "                        intersections.append(r[0])\n",
    "        formatted_intersections = \"\"\n",
    "        for element in intersections:\n",
    "            if formatted_intersections == \"\":\n",
    "                formatted_intersections += element\n",
    "            else:\n",
    "                formatted_intersections += ';' + element\n",
    "        result.append([cell_line, saliency, predicted_score, null_predicted_score, sequence, feature_vector, formatted_intersections])\n",
    "    return result"
   ]
  },
  {
   "cell_type": "code",
   "execution_count": 8,
   "id": "7520c360-7b48-4bd2-b027-1e8c9e124b2b",
   "metadata": {},
   "outputs": [],
   "source": [
    "union_set = sequence_union(YY1_sorted_sequence_score_topten)"
   ]
  },
  {
   "cell_type": "code",
   "execution_count": 9,
   "id": "9fbc7564-321d-42a0-8f5b-11836b67ef86",
   "metadata": {},
   "outputs": [],
   "source": [
    "megaset = sequence_comparison(union_set, other_sorted_sequence_score_topten)"
   ]
  },
  {
   "cell_type": "code",
   "execution_count": 10,
   "id": "9e0e44a2-c1a9-4ffc-99a9-6945d58c2464",
   "metadata": {},
   "outputs": [],
   "source": [
    "df = pd.DataFrame(megaset, columns=[\"Cell Line\",\"Score Difference\",\"Predicted Score\",\"Null Predicted Score\",\"Sequence\",\"Feature Vector\",\"Intersections\"])\n",
    "df.to_csv('YY1 common sequences with intersections.tsv', sep='\\t', index=False)"
   ]
  }
 ],
 "metadata": {
  "kernelspec": {
   "display_name": "Python 3 (ipykernel)",
   "language": "python",
   "name": "python3"
  },
  "language_info": {
   "codemirror_mode": {
    "name": "ipython",
    "version": 3
   },
   "file_extension": ".py",
   "mimetype": "text/x-python",
   "name": "python",
   "nbconvert_exporter": "python",
   "pygments_lexer": "ipython3",
   "version": "3.9.12"
  }
 },
 "nbformat": 4,
 "nbformat_minor": 5
}
