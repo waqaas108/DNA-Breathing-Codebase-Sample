{
 "cells": [
  {
   "cell_type": "code",
   "execution_count": 2,
   "id": "ed110a4d-a0ff-49fc-8d0c-5a0e6f37267e",
   "metadata": {},
   "outputs": [],
   "source": [
    "import torch\n",
    "import numpy as np\n",
    "import pandas as pd"
   ]
  },
  {
   "cell_type": "code",
   "execution_count": 3,
   "id": "64f454e3-3ef7-41b3-995c-fc13152c3cc9",
   "metadata": {},
   "outputs": [],
   "source": [
    "feat_map = torch.load('../../data/Chipseq_data/FeatMap.pt')\n",
    "feat_map = {v: k for k, v in feat_map.items()}"
   ]
  },
  {
   "cell_type": "code",
   "execution_count": 42,
   "id": "868f3bae-949f-4eeb-8358-fac14a022fe1",
   "metadata": {},
   "outputs": [],
   "source": [
    "nonormalznull = pd.read_csv('commontopten/nonormalznull/YY1 common sequences with intersections.tsv', sep='\\t')\n",
    "dualmodel = pd.read_csv('commontopten/dualmodel/YY1 common sequences with intersections.tsv', sep='\\t')\n",
    "gnull = pd.read_csv('commontopten/gnull/YY1 common sequences with intersections.tsv', sep='\\t')\n",
    "znull = pd.read_csv('commontopten/znull/YY1 common sequences with intersections.tsv', sep='\\t')"
   ]
  },
  {
   "cell_type": "code",
   "execution_count": 43,
   "id": "66274b16-d9da-4b66-b6c3-ed01df5fc5e5",
   "metadata": {},
   "outputs": [],
   "source": [
    "models = {}"
   ]
  },
  {
   "cell_type": "code",
   "execution_count": 45,
   "id": "8d4cf94d-d05c-4d36-a7e1-30e073af5dce",
   "metadata": {},
   "outputs": [],
   "source": [
    "models[0] = nonormalznull\n",
    "models[1] = dualmodel\n",
    "models[2] = gnull\n",
    "models[3] = znull"
   ]
  },
  {
   "cell_type": "code",
   "execution_count": 47,
   "id": "c4e5769c-2926-4fc8-93da-1006b6e5899a",
   "metadata": {},
   "outputs": [],
   "source": [
    "for i in range(len(models)):\n",
    "    seqs = []\n",
    "    for index, row in models[i].iterrows():\n",
    "        seq = row['Sequence']\n",
    "        seqs.append(seq)\n",
    "    models[i] = seqs"
   ]
  },
  {
   "cell_type": "code",
   "execution_count": 51,
   "id": "19ae8fde-21f5-4bd1-8311-86a7a6f9eef0",
   "metadata": {},
   "outputs": [],
   "source": [
    "def matrix_generator(models):\n",
    "    union_matrix = np.zeros((len(models), len(models)), dtype=int)\n",
    "    for i, j in np.ndindex(union_matrix.shape):\n",
    "        union_matrix[i, j] = sum(1 for oneseq in models[i] for otherseq in models[j] if oneseq == otherseq)\n",
    "    return union_matrix"
   ]
  },
  {
   "cell_type": "code",
   "execution_count": 52,
   "id": "3c1239e5-572e-41a7-9d14-4f1091fe3327",
   "metadata": {},
   "outputs": [
    {
     "name": "stdout",
     "output_type": "stream",
     "text": [
      "[[21  0  3  2]\n",
      " [ 0 37  1  2]\n",
      " [ 3  1 25  9]\n",
      " [ 2  2  9 20]]\n"
     ]
    }
   ],
   "source": [
    "Modelmatrix = matrix_generator(models)\n",
    "print(Modelmatrix)"
   ]
  },
  {
   "cell_type": "code",
   "execution_count": 53,
   "id": "2b95f374-82c7-4a21-ad3a-f97403669a6b",
   "metadata": {},
   "outputs": [],
   "source": [
    "np.set_printoptions(threshold=sys.maxsize)"
   ]
  },
  {
   "cell_type": "code",
   "execution_count": 54,
   "id": "dc26f4af-604a-46f1-8a3d-994d5b37665d",
   "metadata": {},
   "outputs": [],
   "source": [
    "np.savetxt('Modelmatrix.csv', Modelmatrix, delimiter=',')"
   ]
  }
 ],
 "metadata": {
  "kernelspec": {
   "display_name": "Python 3 (ipykernel)",
   "language": "python",
   "name": "python3"
  },
  "language_info": {
   "codemirror_mode": {
    "name": "ipython",
    "version": 3
   },
   "file_extension": ".py",
   "mimetype": "text/x-python",
   "name": "python",
   "nbconvert_exporter": "python",
   "pygments_lexer": "ipython3",
   "version": "3.9.12"
  }
 },
 "nbformat": 4,
 "nbformat_minor": 5
}
