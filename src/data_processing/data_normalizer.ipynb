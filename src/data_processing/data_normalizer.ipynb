{
 "cells": [
  {
   "cell_type": "code",
   "execution_count": 1,
   "id": "e9d5578e-8a14-446b-b59a-427a59bed707",
   "metadata": {},
   "outputs": [],
   "source": [
    "import os\n",
    "import pickle\n",
    "import torch\n",
    "import numpy as np"
   ]
  },
  {
   "cell_type": "code",
   "execution_count": 2,
   "id": "13c22416-30f8-4319-9538-0a0d4ed29003",
   "metadata": {},
   "outputs": [],
   "source": [
    "with open('../../data/Chipseq_data/seq_breathing_feat.pkl', 'rb') as f:\n",
    "    seq_feat = pickle.load(f)"
   ]
  },
  {
   "cell_type": "code",
   "execution_count": 3,
   "id": "66f20615-feb3-4dd2-9e1c-f349f57742b2",
   "metadata": {},
   "outputs": [],
   "source": [
    "coord = []\n",
    "coord_sq = []\n",
    "flip = []"
   ]
  },
  {
   "cell_type": "code",
   "execution_count": 4,
   "id": "bf298af8-10b2-4ef7-9aa2-c16693980728",
   "metadata": {},
   "outputs": [],
   "source": [
    "train = seq_feat['train']"
   ]
  },
  {
   "cell_type": "code",
   "execution_count": 5,
   "id": "1255c528-7f61-4097-8a77-c9b6a10f032e",
   "metadata": {},
   "outputs": [],
   "source": [
    "index = []"
   ]
  },
  {
   "cell_type": "code",
   "execution_count": 6,
   "id": "92e4c439-9808-4322-8f15-af81318b4bee",
   "metadata": {},
   "outputs": [],
   "source": [
    "for i in train:\n",
    "    index.append(i)"
   ]
  },
  {
   "cell_type": "code",
   "execution_count": 7,
   "id": "9a483386-f8ef-45ad-a006-8ac6e4ecd288",
   "metadata": {},
   "outputs": [
    {
     "name": "stdout",
     "output_type": "stream",
     "text": [
      "train\n",
      "test\n"
     ]
    }
   ],
   "source": [
    "for i in seq_feat:\n",
    "    print(i)"
   ]
  },
  {
   "cell_type": "code",
   "execution_count": 8,
   "id": "b4c3832b-8c76-4f94-9c45-0fc679b202de",
   "metadata": {},
   "outputs": [],
   "source": [
    "train1 = {}\n",
    "train2 = {}\n",
    "train3 = {}\n",
    "train4 = {}\n",
    "train5 = {}\n",
    "train6 = {}\n",
    "train7 = {}\n",
    "train8 = {}\n",
    "train9 = {}"
   ]
  },
  {
   "cell_type": "code",
   "execution_count": 9,
   "id": "e1f2fdb6-f739-403a-b7f1-5b3384c5cc1d",
   "metadata": {},
   "outputs": [],
   "source": [
    "for i in index:\n",
    "    if int(i)<100000:\n",
    "        train1[i] = train[i]\n",
    "    elif int(i)<200000:\n",
    "        train2[i] = train[i]\n",
    "    elif int(i)<300000:\n",
    "        train3[i] = train[i]\n",
    "    elif int(i)<400000:\n",
    "        train4[i] = train[i]\n",
    "    elif int(i)<500000:\n",
    "        train5[i] = train[i]\n",
    "    elif int(i)<600000:\n",
    "        train6[i] = train[i]\n",
    "    elif int(i)<700000:\n",
    "        train7[i] = train[i]\n",
    "    elif int(i)<800000:\n",
    "        train8[i] = train[i]\n",
    "    elif int(i)<900000:\n",
    "        train9[i] = train[i]"
   ]
  },
  {
   "cell_type": "code",
   "execution_count": 10,
   "id": "c36bed6c-7550-412c-992d-1486401ed438",
   "metadata": {},
   "outputs": [],
   "source": [
    "for seq in train1:\n",
    "    data = train1[seq]\n",
    "    for i in data['coord']:\n",
    "        coord.append(i)\n",
    "    for j in data['coord_sq']:\n",
    "        coord_sq.append(j)\n",
    "    for k in data['flip']:\n",
    "        flip.append(k)"
   ]
  },
  {
   "cell_type": "code",
   "execution_count": 11,
   "id": "f63eac39-2993-4322-9976-fb9a1295781a",
   "metadata": {},
   "outputs": [],
   "source": [
    "for seq in train2:\n",
    "    data = train2[seq]\n",
    "    for i in data['coord']:\n",
    "        coord.append(i)\n",
    "    for j in data['coord_sq']:\n",
    "        coord_sq.append(j)\n",
    "    for k in data['flip']:\n",
    "        flip.append(k)"
   ]
  },
  {
   "cell_type": "code",
   "execution_count": 12,
   "id": "73678039-14e9-4c53-a153-b87d24939e1d",
   "metadata": {},
   "outputs": [],
   "source": [
    "for seq in train3:\n",
    "    data = train3[seq]\n",
    "    for i in data['coord']:\n",
    "        coord.append(i)\n",
    "    for j in data['coord_sq']:\n",
    "        coord_sq.append(j)\n",
    "    for k in data['flip']:\n",
    "        flip.append(k)"
   ]
  },
  {
   "cell_type": "code",
   "execution_count": 13,
   "id": "36221bbf-e965-4564-a280-de29c1101e2f",
   "metadata": {},
   "outputs": [],
   "source": [
    "for seq in train4:\n",
    "    data = train4[seq]\n",
    "    for i in data['coord']:\n",
    "        coord.append(i)\n",
    "    for j in data['coord_sq']:\n",
    "        coord_sq.append(j)\n",
    "    for k in data['flip']:\n",
    "        flip.append(k)"
   ]
  },
  {
   "cell_type": "code",
   "execution_count": 14,
   "id": "1788a13b-fffd-4c33-80da-cf0baa4a5188",
   "metadata": {},
   "outputs": [],
   "source": [
    "for seq in train5:\n",
    "    data = train5[seq]\n",
    "    for i in data['coord']:\n",
    "        coord.append(i)\n",
    "    for j in data['coord_sq']:\n",
    "        coord_sq.append(j)\n",
    "    for k in data['flip']:\n",
    "        flip.append(k)"
   ]
  },
  {
   "cell_type": "code",
   "execution_count": 15,
   "id": "47ce05a9-b65f-4949-8a93-4e013fc98bd5",
   "metadata": {},
   "outputs": [],
   "source": [
    "for seq in train6:\n",
    "    data = train6[seq]\n",
    "    for i in data['coord']:\n",
    "        coord.append(i)\n",
    "    for j in data['coord_sq']:\n",
    "        coord_sq.append(j)\n",
    "    for k in data['flip']:\n",
    "        flip.append(k)"
   ]
  },
  {
   "cell_type": "code",
   "execution_count": 16,
   "id": "afda7f03-6aab-4e78-99ca-b8007ddbe3f2",
   "metadata": {},
   "outputs": [],
   "source": [
    "for seq in train7:\n",
    "    data = train7[seq]\n",
    "    for i in data['coord']:\n",
    "        coord.append(i)\n",
    "    for j in data['coord_sq']:\n",
    "        coord_sq.append(j)\n",
    "    for k in data['flip']:\n",
    "        flip.append(k)"
   ]
  },
  {
   "cell_type": "code",
   "execution_count": 17,
   "id": "fd7264d9-06db-46e0-ae2b-875c37538ead",
   "metadata": {},
   "outputs": [],
   "source": [
    "for seq in train8:\n",
    "    data = train8[seq]\n",
    "    for i in data['coord']:\n",
    "        coord.append(i)\n",
    "    for j in data['coord_sq']:\n",
    "        coord_sq.append(j)\n",
    "    for k in data['flip']:\n",
    "        flip.append(k)"
   ]
  },
  {
   "cell_type": "code",
   "execution_count": 18,
   "id": "39e46b7e-4fa4-4794-a183-e3681a4a0c97",
   "metadata": {},
   "outputs": [],
   "source": [
    "for seq in train9:\n",
    "    data = train9[seq]\n",
    "    for i in data['coord']:\n",
    "        coord.append(i)\n",
    "    for j in data['coord_sq']:\n",
    "        coord_sq.append(j)\n",
    "    for k in data['flip']:\n",
    "        flip.append(k)"
   ]
  },
  {
   "cell_type": "code",
   "execution_count": 19,
   "id": "6c60dfc1-1e15-4d22-8f9e-113b98f1b914",
   "metadata": {},
   "outputs": [],
   "source": [
    "mean_coord = np.mean(coord)\n",
    "std_coord = np.std(coord, ddof=0)\n",
    "mean_coord_sq = np.mean(coord_sq)\n",
    "std_coord_sq = np.std(coord_sq, ddof=0)\n",
    "mean_flip = np.mean(flip)\n",
    "std_flip = np.std(flip, ddof=0)"
   ]
  },
  {
   "cell_type": "code",
   "execution_count": 20,
   "id": "5daba48d",
   "metadata": {},
   "outputs": [
    {
     "name": "stdout",
     "output_type": "stream",
     "text": [
      "coord: mean = 0.19155923417221135, std = 0.038960426724374435\n",
      "coord_sq: mean = 0.14925209287264518, std = 0.039466117929090765\n",
      "coord: mean = 0.07465950796958755, std = 0.018489519373127622\n"
     ]
    }
   ],
   "source": [
    "print(f'coord: mean = {mean_coord}, std = {std_coord}')\n",
    "print(f'coord_sq: mean = {mean_coord_sq}, std = {std_coord_sq}')\n",
    "print(f'coord: mean = {mean_flip}, std = {std_flip}')"
   ]
  },
  {
   "cell_type": "code",
   "execution_count": 19,
   "id": "03a6e920-736a-4585-8c9b-56514b1c82de",
   "metadata": {},
   "outputs": [],
   "source": [
    "for partition in seq_feat:\n",
    "    current_partition = seq_feat[partition]\n",
    "    for seq in current_partition:\n",
    "        data = current_partition[seq]\n",
    "        data['coord'] = (data['coord'] - mean_coord)/std_coord\n",
    "        data['coord_sq'] = (data['coord_sq'] - mean_coord_sq)/std_coord_sq\n",
    "        data['flip'] = (data['flip'] - mean_flip)/std_flip\n",
    "        current_partition[seq] = data\n",
    "    seq_feat[partition] = current_partition"
   ]
  },
  {
   "cell_type": "code",
   "execution_count": 54,
   "id": "bd49b5d2-db1f-422f-baee-d1c966f6b958",
   "metadata": {},
   "outputs": [],
   "source": [
    "coord = []\n",
    "coord_sq = []\n",
    "flip = []"
   ]
  },
  {
   "cell_type": "code",
   "execution_count": 55,
   "id": "c51b1bff-0334-4f5b-b832-84d2bda29864",
   "metadata": {},
   "outputs": [],
   "source": [
    "train = seq_feat['train']\n",
    "test = seq_feat['test']"
   ]
  },
  {
   "cell_type": "code",
   "execution_count": 39,
   "id": "5dd4b08a-91f1-4d22-9aee-fb3263e262de",
   "metadata": {},
   "outputs": [],
   "source": [
    "train1 = {}\n",
    "train2 = {}\n",
    "train3 = {}\n",
    "train4 = {}\n",
    "train5 = {}\n",
    "train6 = {}\n",
    "train7 = {}\n",
    "train8 = {}\n",
    "train9 = {}"
   ]
  },
  {
   "cell_type": "code",
   "execution_count": 40,
   "id": "6a27e084-3df2-4511-bad9-305dfb2238a9",
   "metadata": {},
   "outputs": [],
   "source": [
    "for i in index:\n",
    "    if int(i)<100000:\n",
    "        train1[i] = train[i]\n",
    "    elif int(i)<200000:\n",
    "        train2[i] = train[i]\n",
    "    elif int(i)<300000:\n",
    "        train3[i] = train[i]\n",
    "    elif int(i)<400000:\n",
    "        train4[i] = train[i]\n",
    "    elif int(i)<500000:\n",
    "        train5[i] = train[i]\n",
    "    elif int(i)<600000:\n",
    "        train6[i] = train[i]\n",
    "    elif int(i)<700000:\n",
    "        train7[i] = train[i]\n",
    "    elif int(i)<800000:\n",
    "        train8[i] = train[i]\n",
    "    elif int(i)<900000:\n",
    "        train9[i] = train[i]"
   ]
  },
  {
   "cell_type": "code",
   "execution_count": 56,
   "id": "f17ceb1f-785b-4faf-96d6-c2f5391b7008",
   "metadata": {},
   "outputs": [],
   "source": [
    "for seq in test:\n",
    "    data = test[seq]\n",
    "    for i in data['coord']:\n",
    "        coord.append(i)\n",
    "    for j in data['coord_sq']:\n",
    "        coord_sq.append(j)\n",
    "    for k in data['flip']:\n",
    "        flip.append(k)"
   ]
  },
  {
   "cell_type": "code",
   "execution_count": 42,
   "id": "c3997635-b2a7-4113-acd3-344dd687283d",
   "metadata": {},
   "outputs": [],
   "source": [
    "for seq in train1:\n",
    "    data = train1[seq]\n",
    "    for i in data['coord']:\n",
    "        coord.append(i)\n",
    "    for j in data['coord_sq']:\n",
    "        coord_sq.append(j)\n",
    "    for k in data['flip']:\n",
    "        flip.append(k)"
   ]
  },
  {
   "cell_type": "code",
   "execution_count": 43,
   "id": "cdd56a8f-5398-4dcb-8159-f7bafe796f80",
   "metadata": {},
   "outputs": [],
   "source": [
    "for seq in train2:\n",
    "    data = train2[seq]\n",
    "    for i in data['coord']:\n",
    "        coord.append(i)\n",
    "    for j in data['coord_sq']:\n",
    "        coord_sq.append(j)\n",
    "    for k in data['flip']:\n",
    "        flip.append(k)"
   ]
  },
  {
   "cell_type": "code",
   "execution_count": 44,
   "id": "07575678-f355-425d-9fda-46958ef6cc2d",
   "metadata": {},
   "outputs": [],
   "source": [
    "for seq in train3:\n",
    "    data = train3[seq]\n",
    "    for i in data['coord']:\n",
    "        coord.append(i)\n",
    "    for j in data['coord_sq']:\n",
    "        coord_sq.append(j)\n",
    "    for k in data['flip']:\n",
    "        flip.append(k)"
   ]
  },
  {
   "cell_type": "code",
   "execution_count": 45,
   "id": "6629c2c5-2b4b-4730-a1a4-c8ad92928b3b",
   "metadata": {},
   "outputs": [],
   "source": [
    "for seq in train4:\n",
    "    data = train4[seq]\n",
    "    for i in data['coord']:\n",
    "        coord.append(i)\n",
    "    for j in data['coord_sq']:\n",
    "        coord_sq.append(j)\n",
    "    for k in data['flip']:\n",
    "        flip.append(k)"
   ]
  },
  {
   "cell_type": "code",
   "execution_count": 46,
   "id": "6a0adffe-c47a-4bab-8581-a4ea83c8da91",
   "metadata": {},
   "outputs": [],
   "source": [
    "for seq in train5:\n",
    "    data = train5[seq]\n",
    "    for i in data['coord']:\n",
    "        coord.append(i)\n",
    "    for j in data['coord_sq']:\n",
    "        coord_sq.append(j)\n",
    "    for k in data['flip']:\n",
    "        flip.append(k)"
   ]
  },
  {
   "cell_type": "code",
   "execution_count": 47,
   "id": "49aaeab6-1fc6-45c2-b8e9-d98d89842709",
   "metadata": {},
   "outputs": [],
   "source": [
    "for seq in train6:\n",
    "    data = train6[seq]\n",
    "    for i in data['coord']:\n",
    "        coord.append(i)\n",
    "    for j in data['coord_sq']:\n",
    "        coord_sq.append(j)\n",
    "    for k in data['flip']:\n",
    "        flip.append(k)"
   ]
  },
  {
   "cell_type": "code",
   "execution_count": 48,
   "id": "1cb577b2-35fd-4a78-af8e-b35522d25197",
   "metadata": {},
   "outputs": [],
   "source": [
    "for seq in train7:\n",
    "    data = train7[seq]\n",
    "    for i in data['coord']:\n",
    "        coord.append(i)\n",
    "    for j in data['coord_sq']:\n",
    "        coord_sq.append(j)\n",
    "    for k in data['flip']:\n",
    "        flip.append(k)"
   ]
  },
  {
   "cell_type": "code",
   "execution_count": 49,
   "id": "1e52c76e-dceb-49b8-8302-b636b96b9b08",
   "metadata": {},
   "outputs": [],
   "source": [
    "for seq in train8:\n",
    "    data = train8[seq]\n",
    "    for i in data['coord']:\n",
    "        coord.append(i)\n",
    "    for j in data['coord_sq']:\n",
    "        coord_sq.append(j)\n",
    "    for k in data['flip']:\n",
    "        flip.append(k)"
   ]
  },
  {
   "cell_type": "code",
   "execution_count": 50,
   "id": "8623ded1-023c-4e4a-9252-93936fdfd75d",
   "metadata": {},
   "outputs": [],
   "source": [
    "for seq in train9:\n",
    "    data = train9[seq]\n",
    "    for i in data['coord']:\n",
    "        coord.append(i)\n",
    "    for j in data['coord_sq']:\n",
    "        coord_sq.append(j)\n",
    "    for k in data['flip']:\n",
    "        flip.append(k)"
   ]
  },
  {
   "cell_type": "code",
   "execution_count": 57,
   "id": "81da5776-3662-4717-9c0e-4333ef555a9a",
   "metadata": {},
   "outputs": [],
   "source": [
    "mean_coord = np.mean(coord)\n",
    "std_coord = np.std(coord, ddof=0)\n",
    "mean_coord_sq = np.mean(coord_sq)\n",
    "std_coord_sq = np.std(coord_sq, ddof=0)\n",
    "mean_flip = np.mean(flip)\n",
    "std_flip = np.std(flip, ddof=0)"
   ]
  },
  {
   "cell_type": "code",
   "execution_count": 58,
   "id": "6df4c7a7-d5a2-4035-b728-c63667c851c4",
   "metadata": {},
   "outputs": [
    {
     "name": "stdout",
     "output_type": "stream",
     "text": [
      "coord: mean = 0.07738674543113, std = 1.0111124691462943\n",
      "coord_sq: mean = 0.08939614710405903, std = 1.0202053755668645\n",
      "coord: mean = 0.08363005394874898, std = 1.0168371143051296\n"
     ]
    }
   ],
   "source": [
    "print(f'coord: mean = {mean_coord}, std = {std_coord}')\n",
    "print(f'coord_sq: mean = {mean_coord_sq}, std = {std_coord_sq}')\n",
    "print(f'coord: mean = {mean_flip}, std = {std_flip}')"
   ]
  },
  {
   "cell_type": "code",
   "execution_count": 52,
   "id": "62749a94-9447-4e9d-93de-7b5fc70f4ef1",
   "metadata": {},
   "outputs": [
    {
     "name": "stdout",
     "output_type": "stream",
     "text": [
      "coord: mean = 1.8710791090102332e-14, std = 0.9999999999999986\n",
      "coord_sq: mean = -1.2264956376246455e-14, std = 0.999999999999998\n",
      "coord: mean = 5.366576905137766e-15, std = 1.0000000000000029\n"
     ]
    }
   ],
   "source": [
    "print(f'coord: mean = {mean_coord}, std = {std_coord}')\n",
    "print(f'coord_sq: mean = {mean_coord_sq}, std = {std_coord_sq}')\n",
    "print(f'coord: mean = {mean_flip}, std = {std_flip}')"
   ]
  },
  {
   "cell_type": "code",
   "execution_count": 35,
   "id": "c799f241-2b91-4cba-a867-98a2ab716bbe",
   "metadata": {},
   "outputs": [
    {
     "name": "stdout",
     "output_type": "stream",
     "text": [
      "coord: mean = 0.04580205115778214, std = 1.0073101623251355\n",
      "coord_sq: mean = 0.052909925080278204, std = 1.0129608016517917\n",
      "coord: mean = 0.049497210251555214, std = 1.01083513250463\n"
     ]
    }
   ],
   "source": [
    "print(f'coord: mean = {mean_coord}, std = {std_coord}')\n",
    "print(f'coord_sq: mean = {mean_coord_sq}, std = {std_coord_sq}')\n",
    "print(f'coord: mean = {mean_flip}, std = {std_flip}')"
   ]
  },
  {
   "cell_type": "code",
   "execution_count": 59,
   "id": "23f0636f-a3e3-4495-bfa7-60915350f0dc",
   "metadata": {},
   "outputs": [],
   "source": [
    "with open('../../data/Chipseq_data/seq_normalized_breathing_feat.pkl', \"wb\") as file:\n",
    "    pickle.dump(seq_feat, file)"
   ]
  }
 ],
 "metadata": {
  "kernelspec": {
   "display_name": "Python 3 (ipykernel)",
   "language": "python",
   "name": "python3"
  },
  "language_info": {
   "codemirror_mode": {
    "name": "ipython",
    "version": 3
   },
   "file_extension": ".py",
   "mimetype": "text/x-python",
   "name": "python",
   "nbconvert_exporter": "python",
   "pygments_lexer": "ipython3",
   "version": "3.10.9"
  }
 },
 "nbformat": 4,
 "nbformat_minor": 5
}
