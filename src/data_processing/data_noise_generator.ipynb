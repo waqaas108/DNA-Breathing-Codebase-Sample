{
 "cells": [
  {
   "cell_type": "code",
   "execution_count": 6,
   "id": "e9d5578e-8a14-446b-b59a-427a59bed707",
   "metadata": {},
   "outputs": [],
   "source": [
    "import pickle\n",
    "import torch\n",
    "import numpy as np\n",
    "\n",
    "from tqdm.notebook import tqdm"
   ]
  },
  {
   "cell_type": "code",
   "execution_count": 3,
   "id": "13c22416-30f8-4319-9538-0a0d4ed29003",
   "metadata": {},
   "outputs": [],
   "source": [
    "with open('../../data/Chipseq_data/seq_breathing_feat.pkl', 'rb') as f:\n",
    "    seq_feat = pickle.load(f)"
   ]
  },
  {
   "cell_type": "code",
   "execution_count": 1,
   "id": "834940a3-5d9c-45bb-bb37-0e9ac13e7c98",
   "metadata": {},
   "outputs": [],
   "source": [
    "seeds = [837, 452, 681, 193, 526]"
   ]
  },
  {
   "cell_type": "code",
   "execution_count": 7,
   "id": "c70c1261-e6a9-4791-ac91-6b8c38c332ff",
   "metadata": {},
   "outputs": [
    {
     "data": {
      "application/vnd.jupyter.widget-view+json": {
       "model_id": "1ccb5008e7234fa9a808e32d417276cf",
       "version_major": 2,
       "version_minor": 0
      },
      "text/plain": [
       "  0%|          | 0/5 [00:00<?, ?it/s]"
      ]
     },
     "metadata": {},
     "output_type": "display_data"
    },
    {
     "data": {
      "application/vnd.jupyter.widget-view+json": {
       "model_id": "2ef97bbfd09e41978809a5ac37d7b906",
       "version_major": 2,
       "version_minor": 0
      },
      "text/plain": [
       "  0%|          | 0/5 [00:00<?, ?it/s]"
      ]
     },
     "metadata": {},
     "output_type": "display_data"
    },
    {
     "data": {
      "application/vnd.jupyter.widget-view+json": {
       "model_id": "0c4cb3962b354ac6ba24c3da413dd5fd",
       "version_major": 2,
       "version_minor": 0
      },
      "text/plain": [
       "  0%|          | 0/5 [00:00<?, ?it/s]"
      ]
     },
     "metadata": {},
     "output_type": "display_data"
    },
    {
     "data": {
      "application/vnd.jupyter.widget-view+json": {
       "model_id": "5dc0965649a74f04a28ec66e24d6cb72",
       "version_major": 2,
       "version_minor": 0
      },
      "text/plain": [
       "  0%|          | 0/5 [00:00<?, ?it/s]"
      ]
     },
     "metadata": {},
     "output_type": "display_data"
    },
    {
     "data": {
      "application/vnd.jupyter.widget-view+json": {
       "model_id": "7474bbef450641f79898addf90b99458",
       "version_major": 2,
       "version_minor": 0
      },
      "text/plain": [
       "  0%|          | 0/5 [00:00<?, ?it/s]"
      ]
     },
     "metadata": {},
     "output_type": "display_data"
    }
   ],
   "source": [
    "for n, seed in enumerate(seeds):\n",
    "    np.random.seed = seed\n",
    "    pbar = tqdm(total = len(seeds))\n",
    "    for partition in seq_feat:\n",
    "        current_partition = seq_feat[partition]\n",
    "        for seq in current_partition:\n",
    "            data = current_partition[seq]\n",
    "            data['coord'] = np.random.normal(loc=0.0, scale=1.0, size=(data['coord'].shape))\n",
    "            data['coord_sq'] = np.random.normal(loc=0.0, scale=1.0, size=(data['coord_sq'].shape))\n",
    "            data['flip'] = np.random.normal(loc=0.0, scale=1.0, size=(data['flip'].shape))\n",
    "            current_partition[seq] = data\n",
    "        seq_feat[partition] = current_partition\n",
    "        pbar.update()\n",
    "    with open(f'../../data/Chipseq_data/seq_gaussiannoise_breathing_feat_{n}.pkl', \"wb\") as file:\n",
    "        pickle.dump(seq_feat, file)"
   ]
  },
  {
   "cell_type": "code",
   "execution_count": 3,
   "id": "03a6e920-736a-4585-8c9b-56514b1c82de",
   "metadata": {},
   "outputs": [],
   "source": [
    "# for partition in seq_feat:\n",
    "#     current_partition = seq_feat[partition]\n",
    "#     for seq in current_partition:\n",
    "#         data = current_partition[seq]\n",
    "#         data['coord'] = np.random.normal(loc=0.0, scale=1.0, size=(data['coord'].shape))\n",
    "#         data['coord_sq'] = np.random.normal(loc=0.0, scale=1.0, size=(data['coord_sq'].shape))\n",
    "#         data['flip'] = np.random.normal(loc=0.0, scale=1.0, size=(data['flip'].shape))\n",
    "#         current_partition[seq] = data\n",
    "#     seq_feat[partition] = current_partition"
   ]
  },
  {
   "cell_type": "code",
   "execution_count": 8,
   "id": "23f0636f-a3e3-4495-bfa7-60915350f0dc",
   "metadata": {},
   "outputs": [],
   "source": [
    "# with open('../../data/Chipseq_data/seq_gaussiannoise_breathing_feat.pkl', \"wb\") as file:\n",
    "#     pickle.dump(seq_feat, file)"
   ]
  }
 ],
 "metadata": {
  "kernelspec": {
   "display_name": "Python 3 (ipykernel)",
   "language": "python",
   "name": "python3"
  },
  "language_info": {
   "codemirror_mode": {
    "name": "ipython",
    "version": 3
   },
   "file_extension": ".py",
   "mimetype": "text/x-python",
   "name": "python",
   "nbconvert_exporter": "python",
   "pygments_lexer": "ipython3",
   "version": "3.9.12"
  }
 },
 "nbformat": 4,
 "nbformat_minor": 5
}
