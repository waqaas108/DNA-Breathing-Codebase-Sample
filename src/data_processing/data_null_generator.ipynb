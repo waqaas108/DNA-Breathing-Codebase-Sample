{
 "cells": [
  {
   "cell_type": "code",
   "execution_count": 1,
   "id": "e9d5578e-8a14-446b-b59a-427a59bed707",
   "metadata": {},
   "outputs": [],
   "source": [
    "import pickle\n",
    "import torch\n",
    "import numpy as np"
   ]
  },
  {
   "cell_type": "code",
   "execution_count": 2,
   "id": "13c22416-30f8-4319-9538-0a0d4ed29003",
   "metadata": {},
   "outputs": [],
   "source": [
    "with open('../../data/Chipseq_data/seq_breathing_feat.pkl', 'rb') as f:\n",
    "    seq_feat = pickle.load(f)"
   ]
  },
  {
   "cell_type": "code",
   "execution_count": 9,
   "id": "03a6e920-736a-4585-8c9b-56514b1c82de",
   "metadata": {},
   "outputs": [
    {
     "name": "stdout",
     "output_type": "stream",
     "text": [
      "785729\n"
     ]
    }
   ],
   "source": [
    "for partition in seq_feat:\n",
    "    current_partition = seq_feat[partition]\n",
    "    print(len(current_partition))\n",
    "    break\n",
    "    # for seq in current_partition:\n",
    "    #     data = current_partition[seq]\n",
    "    #     data['coord'] = np.zeros_like(data['coord'])\n",
    "    #     data['coord_sq'] = np.zeros_like(data['coord_sq'])\n",
    "    #     data['flip'] = np.zeros_like(data['flip'])\n",
    "    #     current_partition[seq] = data\n",
    "    # seq_feat[partition] = current_partition"
   ]
  },
  {
   "cell_type": "code",
   "execution_count": 5,
   "id": "23f0636f-a3e3-4495-bfa7-60915350f0dc",
   "metadata": {},
   "outputs": [],
   "source": [
    "with open('../../data/Chipseq_data/seq_zero_breathing_feat.pkl', \"wb\") as file:\n",
    "    pickle.dump(seq_feat, file)"
   ]
  }
 ],
 "metadata": {
  "kernelspec": {
   "display_name": "Python 3 (ipykernel)",
   "language": "python",
   "name": "python3"
  },
  "language_info": {
   "codemirror_mode": {
    "name": "ipython",
    "version": 3
   },
   "file_extension": ".py",
   "mimetype": "text/x-python",
   "name": "python",
   "nbconvert_exporter": "python",
   "pygments_lexer": "ipython3",
   "version": "3.9.12"
  }
 },
 "nbformat": 4,
 "nbformat_minor": 5
}
