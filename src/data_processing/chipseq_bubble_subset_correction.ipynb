{
 "cells": [
  {
   "cell_type": "code",
   "execution_count": 1,
   "metadata": {},
   "outputs": [],
   "source": [
    "import pickle\n",
    "import os\n",
    "import glob\n",
    "import torch\n",
    "import numpy as np\n",
    "import pandas as pd\n",
    "import scipy.io\n",
    "from sklearn.preprocessing import MinMaxScaler\n",
    "from matplotlib import pyplot as plt\n",
    "from scipy import signal\n",
    "from scipy import stats\n",
    "import seaborn as sns\n",
    "import statsmodels.api as sm\n",
    "from tqdm import tqdm\n",
    "from tqdm.notebook import tqdm_notebook\n",
    "tqdm_notebook.pandas()\n",
    "\n",
    "# jupyter notebook display setting for all data structures\n",
    "pd.set_option('display.max_columns', None)\n",
    "pd.set_option('display.max_rows', None)\n",
    "pd.set_option('display.width', None)\n",
    "np.set_printoptions(threshold=np.inf)"
   ]
  },
  {
   "cell_type": "code",
   "execution_count": 2,
   "metadata": {},
   "outputs": [],
   "source": [
    "# define the path to the data file\n",
    "data_file = '/project2/xinhe/waqaas/DNA-breathing/data/Chipseq_data/seq_breathing_feat.pkl'\n",
    "\n",
    "# define path to the TF index\n",
    "tf_index_file = '/project2/xinhe/waqaas/DNA-breathing/data/Chipseq_data/group_index.pt'"
   ]
  },
  {
   "cell_type": "markdown",
   "metadata": {},
   "source": [
    "# Preliminary data prep"
   ]
  },
  {
   "cell_type": "markdown",
   "metadata": {},
   "source": [
    "cutting out flanks"
   ]
  },
  {
   "cell_type": "code",
   "execution_count": 3,
   "metadata": {},
   "outputs": [
    {
     "name": "stdout",
     "output_type": "stream",
     "text": [
      "200\n",
      "200\n",
      "200\n",
      "200\n"
     ]
    }
   ],
   "source": [
    "with open(data_file, 'rb') as f:\n",
    "    panset = pickle.load(f)\n",
    "\n",
    "for part in panset.keys():\n",
    "    partition = panset[part]\n",
    "    for seq_id in partition.keys():\n",
    "        sample = partition[seq_id]\n",
    "        # remove the first 150 and last 150 bp from seq, coord, coord_sq, flip\n",
    "        sample['seq'] = sample['seq'][150:-150]\n",
    "        sample['coord'] = sample['coord'][150:-150]\n",
    "        sample['coord_sq'] = sample['coord_sq'][150:-150]\n",
    "        sample['flip'] = sample['flip'][150:-150]\n",
    "\n",
    "for part in panset.keys():\n",
    "    partition = panset[part]\n",
    "    for seq_id in partition.keys():\n",
    "        sample = partition[seq_id]\n",
    "        print(len(sample['seq']))\n",
    "        print(len(sample['coord']))\n",
    "        print(len(sample['coord_sq']))\n",
    "        print(len(sample['flip']))\n",
    "        break\n",
    "    break"
   ]
  },
  {
   "cell_type": "markdown",
   "metadata": {},
   "source": [
    "making a dataframe for vectorized operations"
   ]
  },
  {
   "cell_type": "code",
   "execution_count": 4,
   "metadata": {},
   "outputs": [
    {
     "data": {
      "text/html": [
       "<div>\n",
       "<style scoped>\n",
       "    .dataframe tbody tr th:only-of-type {\n",
       "        vertical-align: middle;\n",
       "    }\n",
       "\n",
       "    .dataframe tbody tr th {\n",
       "        vertical-align: top;\n",
       "    }\n",
       "\n",
       "    .dataframe thead th {\n",
       "        text-align: right;\n",
       "    }\n",
       "</style>\n",
       "<table border=\"1\" class=\"dataframe\">\n",
       "  <thead>\n",
       "    <tr style=\"text-align: right;\">\n",
       "      <th></th>\n",
       "      <th>seq</th>\n",
       "      <th>label</th>\n",
       "    </tr>\n",
       "    <tr>\n",
       "      <th>seq_id</th>\n",
       "      <th></th>\n",
       "      <th></th>\n",
       "    </tr>\n",
       "  </thead>\n",
       "  <tbody>\n",
       "    <tr>\n",
       "      <th>81</th>\n",
       "      <td>CCCCTGAGCTAGCCATGCTCTGACAGTCTCAGTTGCACACACGAGC...</td>\n",
       "      <td>[0, 0, 0, 0, 0, 0, 0, 0, 0, 0, 0, 0, 0, 0, 0, ...</td>\n",
       "    </tr>\n",
       "    <tr>\n",
       "      <th>146</th>\n",
       "      <td>TCTCGGTCAGGAACGGTCCCGGGCCTCCCGCCCGCCTCCCTCCAGC...</td>\n",
       "      <td>[0, 0, 0, 0, 0, 0, 0, 0, 0, 0, 0, 0, 0, 0, 0, ...</td>\n",
       "    </tr>\n",
       "    <tr>\n",
       "      <th>147</th>\n",
       "      <td>CCGCCCGCGCCTCCGGGTCCTAACGCCGCCGCTCGCCCTCCACTGC...</td>\n",
       "      <td>[0, 0, 0, 0, 0, 0, 0, 0, 0, 0, 0, 0, 0, 0, 0, ...</td>\n",
       "    </tr>\n",
       "    <tr>\n",
       "      <th>449</th>\n",
       "      <td>CAAAGTGCTAAGTATGGTAGATTGCAAACATAAGTGGCCACATAAT...</td>\n",
       "      <td>[0, 0, 0, 0, 0, 0, 0, 0, 0, 0, 0, 0, 0, 0, 0, ...</td>\n",
       "    </tr>\n",
       "    <tr>\n",
       "      <th>1178</th>\n",
       "      <td>AGCTGACTCATGTTGGGGGCAGCCCACTCACAGTGGCCCTGACCCA...</td>\n",
       "      <td>[0, 0, 0, 0, 0, 0, 0, 0, 0, 0, 0, 0, 0, 0, 0, ...</td>\n",
       "    </tr>\n",
       "  </tbody>\n",
       "</table>\n",
       "</div>"
      ],
      "text/plain": [
       "                                                      seq  \\\n",
       "seq_id                                                      \n",
       "81      CCCCTGAGCTAGCCATGCTCTGACAGTCTCAGTTGCACACACGAGC...   \n",
       "146     TCTCGGTCAGGAACGGTCCCGGGCCTCCCGCCCGCCTCCCTCCAGC...   \n",
       "147     CCGCCCGCGCCTCCGGGTCCTAACGCCGCCGCTCGCCCTCCACTGC...   \n",
       "449     CAAAGTGCTAAGTATGGTAGATTGCAAACATAAGTGGCCACATAAT...   \n",
       "1178    AGCTGACTCATGTTGGGGGCAGCCCACTCACAGTGGCCCTGACCCA...   \n",
       "\n",
       "                                                    label  \n",
       "seq_id                                                     \n",
       "81      [0, 0, 0, 0, 0, 0, 0, 0, 0, 0, 0, 0, 0, 0, 0, ...  \n",
       "146     [0, 0, 0, 0, 0, 0, 0, 0, 0, 0, 0, 0, 0, 0, 0, ...  \n",
       "147     [0, 0, 0, 0, 0, 0, 0, 0, 0, 0, 0, 0, 0, 0, 0, ...  \n",
       "449     [0, 0, 0, 0, 0, 0, 0, 0, 0, 0, 0, 0, 0, 0, 0, ...  \n",
       "1178    [0, 0, 0, 0, 0, 0, 0, 0, 0, 0, 0, 0, 0, 0, 0, ...  "
      ]
     },
     "execution_count": 4,
     "metadata": {},
     "output_type": "execute_result"
    }
   ],
   "source": [
    "panset_df = pd.DataFrame(columns=['seq_id', 'seq', 'coord', 'coord_sq', 'flip', 'label'])\n",
    "\n",
    "flat_data = []\n",
    "for part in panset.keys():\n",
    "    for seq_id, data in panset[part].items():\n",
    "        row = {'part': part, 'seq_id': seq_id, **data}\n",
    "        flat_data.append(row)\n",
    "\n",
    "# Convert to DataFrame\n",
    "df = pd.DataFrame(flat_data)\n",
    "\n",
    "# del column part\n",
    "del df['part']\n",
    "#turn seq_id into index\n",
    "df.set_index('seq_id', inplace=True)\n",
    "\n",
    "# remove the coord, coord_sq, flip columns\n",
    "del df['coord']\n",
    "del df['coord_sq']\n",
    "del df['flip']\n",
    "\n",
    "# preview the data\n",
    "df.head()"
   ]
  },
  {
   "cell_type": "code",
   "execution_count": 31,
   "metadata": {},
   "outputs": [
    {
     "data": {
      "text/html": [
       "<div>\n",
       "<style scoped>\n",
       "    .dataframe tbody tr th:only-of-type {\n",
       "        vertical-align: middle;\n",
       "    }\n",
       "\n",
       "    .dataframe tbody tr th {\n",
       "        vertical-align: top;\n",
       "    }\n",
       "\n",
       "    .dataframe thead th {\n",
       "        text-align: right;\n",
       "    }\n",
       "</style>\n",
       "<table border=\"1\" class=\"dataframe\">\n",
       "  <thead>\n",
       "    <tr style=\"text-align: right;\">\n",
       "      <th></th>\n",
       "      <th>seq</th>\n",
       "      <th>label</th>\n",
       "    </tr>\n",
       "    <tr>\n",
       "      <th>seq_id</th>\n",
       "      <th></th>\n",
       "      <th></th>\n",
       "    </tr>\n",
       "  </thead>\n",
       "  <tbody>\n",
       "    <tr>\n",
       "      <th>81</th>\n",
       "      <td>CCCCTGAGCTAGCCATGCTCTGACAGTCTCAGTTGCACACACGAGC...</td>\n",
       "      <td>[0, 0, 0, 0, 0, 0, 0, 0, 0, 0, 0, 0, 0, 0, 0, ...</td>\n",
       "    </tr>\n",
       "    <tr>\n",
       "      <th>146</th>\n",
       "      <td>TCTCGGTCAGGAACGGTCCCGGGCCTCCCGCCCGCCTCCCTCCAGC...</td>\n",
       "      <td>[0, 0, 0, 0, 0, 0, 0, 0, 0, 0, 0, 0, 0, 0, 0, ...</td>\n",
       "    </tr>\n",
       "    <tr>\n",
       "      <th>147</th>\n",
       "      <td>CCGCCCGCGCCTCCGGGTCCTAACGCCGCCGCTCGCCCTCCACTGC...</td>\n",
       "      <td>[0, 0, 0, 0, 0, 0, 0, 0, 0, 0, 0, 0, 0, 0, 0, ...</td>\n",
       "    </tr>\n",
       "    <tr>\n",
       "      <th>449</th>\n",
       "      <td>CAAAGTGCTAAGTATGGTAGATTGCAAACATAAGTGGCCACATAAT...</td>\n",
       "      <td>[0, 0, 0, 0, 0, 0, 0, 0, 0, 0, 0, 0, 0, 0, 0, ...</td>\n",
       "    </tr>\n",
       "    <tr>\n",
       "      <th>1178</th>\n",
       "      <td>AGCTGACTCATGTTGGGGGCAGCCCACTCACAGTGGCCCTGACCCA...</td>\n",
       "      <td>[0, 0, 0, 0, 0, 0, 0, 0, 0, 0, 0, 0, 0, 0, 0, ...</td>\n",
       "    </tr>\n",
       "  </tbody>\n",
       "</table>\n",
       "</div>"
      ],
      "text/plain": [
       "                                                      seq  \\\n",
       "seq_id                                                      \n",
       "81      CCCCTGAGCTAGCCATGCTCTGACAGTCTCAGTTGCACACACGAGC...   \n",
       "146     TCTCGGTCAGGAACGGTCCCGGGCCTCCCGCCCGCCTCCCTCCAGC...   \n",
       "147     CCGCCCGCGCCTCCGGGTCCTAACGCCGCCGCTCGCCCTCCACTGC...   \n",
       "449     CAAAGTGCTAAGTATGGTAGATTGCAAACATAAGTGGCCACATAAT...   \n",
       "1178    AGCTGACTCATGTTGGGGGCAGCCCACTCACAGTGGCCCTGACCCA...   \n",
       "\n",
       "                                                    label  \n",
       "seq_id                                                     \n",
       "81      [0, 0, 0, 0, 0, 0, 0, 0, 0, 0, 0, 0, 0, 0, 0, ...  \n",
       "146     [0, 0, 0, 0, 0, 0, 0, 0, 0, 0, 0, 0, 0, 0, 0, ...  \n",
       "147     [0, 0, 0, 0, 0, 0, 0, 0, 0, 0, 0, 0, 0, 0, 0, ...  \n",
       "449     [0, 0, 0, 0, 0, 0, 0, 0, 0, 0, 0, 0, 0, 0, 0, ...  \n",
       "1178    [0, 0, 0, 0, 0, 0, 0, 0, 0, 0, 0, 0, 0, 0, 0, ...  "
      ]
     },
     "execution_count": 31,
     "metadata": {},
     "output_type": "execute_result"
    }
   ],
   "source": [
    "# copy df\n",
    "df_copy = df.copy()\n",
    "\n",
    "# load tf index\n",
    "tf_index = torch.load(tf_index_file)\n",
    "\n",
    "# preview the data\n",
    "df_copy.head()"
   ]
  },
  {
   "cell_type": "markdown",
   "metadata": {},
   "source": [
    "loading bubbles and standardizing the df to only have bubble-having sequences"
   ]
  },
  {
   "cell_type": "code",
   "execution_count": 6,
   "metadata": {},
   "outputs": [],
   "source": [
    "# load the bubble_data_overall pkl file\n",
    "bubble_data_overall_file = '/project2/xinhe/waqaas/DNA-breathing/data/chipseq_features/bubble_data/bubble_data_overall.pkl'"
   ]
  },
  {
   "cell_type": "code",
   "execution_count": 61,
   "metadata": {},
   "outputs": [],
   "source": [
    "with open(bubble_data_overall_file, 'rb') as f:\n",
    "    bubble_data_overall = pickle.load(f)"
   ]
  },
  {
   "cell_type": "markdown",
   "metadata": {},
   "source": [
    "# TF logic now begins"
   ]
  },
  {
   "cell_type": "code",
   "execution_count": 17,
   "metadata": {},
   "outputs": [],
   "source": [
    "selected_tfs = ['POU2F2', 'CTCF', 'ETS1', 'JUND', 'MAFK', 'EBF1', 'PAX5']"
   ]
  },
  {
   "cell_type": "code",
   "execution_count": 25,
   "metadata": {},
   "outputs": [],
   "source": [
    "def check_max(row, n, max_index):\n",
    "    if row['tf_cell_lines'][max_index] == 1:\n",
    "        row['tf_label'][n] = 1\n",
    "    return row\n",
    "\n",
    "def tf_cell_line_sprucer(df, tf_index, selected_tfs):\n",
    "    # create empty list of len(selected_tfs)\n",
    "    df['tf_label'] = [ [0]*len(selected_tfs) for _ in range(len(df)) ]\n",
    "    for n, tf in enumerate(selected_tfs):\n",
    "        indices = tf_index[tf]\n",
    "        df['tf_cell_lines'] = df['label'].apply(lambda x: x[indices])\n",
    "        # turn into np array\n",
    "        df['tf_cell_lines'] = df['tf_cell_lines'].apply(np.array)\n",
    "        # vertical stack\n",
    "        sums = np.vstack(df['tf_cell_lines'])\n",
    "        sums = sums.sum(axis=0)\n",
    "        max_index = np.argmax(sums)\n",
    "        df = df.apply(check_max, axis=1, args=(n, max_index,))\n",
    "        del df['tf_cell_lines']\n",
    "    return df"
   ]
  },
  {
   "cell_type": "code",
   "execution_count": 32,
   "metadata": {},
   "outputs": [],
   "source": [
    "df_copy = tf_cell_line_sprucer(df_copy, tf_index, selected_tfs)"
   ]
  },
  {
   "cell_type": "code",
   "execution_count": 35,
   "metadata": {},
   "outputs": [],
   "source": [
    "# save the df_copy to a pkl file\n",
    "df_copy.to_pickle('/project2/xinhe/waqaas/DNA-breathing/data/Chipseq_data/seq_breathing_feat_tf_labelled.pkl')"
   ]
  },
  {
   "cell_type": "code",
   "execution_count": 53,
   "metadata": {},
   "outputs": [],
   "source": [
    "# Step 2: Filter Sequences for Selected TFs\n",
    "# keep the rows in which there is a 1 in df['tf_label']\n",
    "filtered_data = df_copy[df_copy['tf_label'].apply(lambda x: 1 in x)]"
   ]
  },
  {
   "cell_type": "code",
   "execution_count": 54,
   "metadata": {},
   "outputs": [
    {
     "name": "stdout",
     "output_type": "stream",
     "text": [
      "(886625, 3)\n",
      "(227971, 3)\n"
     ]
    }
   ],
   "source": [
    "# get shapes\n",
    "print(df_copy.shape)\n",
    "print(filtered_data.shape)"
   ]
  },
  {
   "cell_type": "code",
   "execution_count": 57,
   "metadata": {},
   "outputs": [],
   "source": [
    "final_df = pd.DataFrame()\n",
    "\n",
    "for i in range(len(selected_tfs)):\n",
    "    positive = filtered_data[filtered_data['tf_label'].apply(lambda x: x[i] == 1)].head(3000)\n",
    "    negative = filtered_data[filtered_data['tf_label'].apply(lambda x: x[i] == 0)].head(3000)\n",
    "    final_df = pd.concat([final_df, positive, negative])\n",
    "\n",
    "final_df = final_df[~final_df.index.duplicated(keep='first')]"
   ]
  },
  {
   "cell_type": "code",
   "execution_count": 59,
   "metadata": {},
   "outputs": [
    {
     "name": "stdout",
     "output_type": "stream",
     "text": [
      "(17276, 3)\n"
     ]
    }
   ],
   "source": [
    "# get shapes\n",
    "print(final_df.shape)"
   ]
  },
  {
   "cell_type": "markdown",
   "metadata": {},
   "source": [
    "# Removing already done sequences"
   ]
  },
  {
   "cell_type": "code",
   "execution_count": 62,
   "metadata": {},
   "outputs": [],
   "source": [
    "# remove the sequences from final_dataset that have already been analysed\n",
    "for key, value in bubble_data_overall.items():\n",
    "    final_df = final_df.drop(key, errors='ignore')"
   ]
  },
  {
   "cell_type": "code",
   "execution_count": 70,
   "metadata": {},
   "outputs": [
    {
     "name": "stdout",
     "output_type": "stream",
     "text": [
      "(15125, 3)\n"
     ]
    }
   ],
   "source": [
    "print(final_df.shape)"
   ]
  },
  {
   "cell_type": "code",
   "execution_count": 66,
   "metadata": {},
   "outputs": [],
   "source": [
    "# load up the sequences.txt file\n",
    "sequences_backup_file = '/project2/xinhe/waqaas/DNA-breathing/data/chipseq_features/sequence_file/sequences.txt'"
   ]
  },
  {
   "cell_type": "code",
   "execution_count": 71,
   "metadata": {},
   "outputs": [
    {
     "name": "stdout",
     "output_type": "stream",
     "text": [
      "877680\n",
      "14868\n"
     ]
    }
   ],
   "source": [
    "with open(sequences_backup_file, 'r') as f:\n",
    "    sequences_backup = f.read().splitlines()\n",
    "    print(len(sequences_backup))\n",
    "    # only keep the sequences that are in final_dataset\n",
    "    sequences_backup = [seq for seq in sequences_backup if seq.split()[0] in final_df.index]\n",
    "\n",
    "print(len(sequences_backup))"
   ]
  },
  {
   "cell_type": "code",
   "execution_count": 72,
   "metadata": {},
   "outputs": [],
   "source": [
    "# save the sequences_backup.txt file\n",
    "sequences_backup_file = '/project2/xinhe/waqaas/DNA-breathing/data/chipseq_features/sequence_7tf_subset/sequences_subset.txt'\n",
    "\n",
    "with open(sequences_backup_file, 'w') as f:\n",
    "    for seq in sequences_backup:\n",
    "        f.write(seq + '\\n')"
   ]
  },
  {
   "cell_type": "code",
   "execution_count": 60,
   "metadata": {},
   "outputs": [
    {
     "name": "stdout",
     "output_type": "stream",
     "text": [
      "POU2F2\n",
      "(3794, 3)\n",
      "(13482, 3)\n",
      "\n",
      "CTCF\n",
      "(7063, 3)\n",
      "(10213, 3)\n",
      "\n",
      "ETS1\n",
      "(3135, 3)\n",
      "(14141, 3)\n",
      "\n",
      "JUND\n",
      "(3368, 3)\n",
      "(13908, 3)\n",
      "\n",
      "MAFK\n",
      "(3275, 3)\n",
      "(14001, 3)\n",
      "\n",
      "EBF1\n",
      "(3515, 3)\n",
      "(13761, 3)\n",
      "\n",
      "PAX5\n",
      "(3189, 3)\n",
      "(14087, 3)\n",
      "\n"
     ]
    }
   ],
   "source": [
    "for tf in selected_tfs:\n",
    "    print(tf)\n",
    "    print(final_df[final_df['label'].apply(lambda x: tf_presence(x, tf_index[tf])) == 1].shape)\n",
    "    print(final_df[final_df['label'].apply(lambda x: tf_presence(x, tf_index[tf])) == 0].shape)\n",
    "    print()"
   ]
  }
 ],
 "metadata": {
  "kernelspec": {
   "display_name": "legacy",
   "language": "python",
   "name": "legacy"
  },
  "language_info": {
   "codemirror_mode": {
    "name": "ipython",
    "version": 3
   },
   "file_extension": ".py",
   "mimetype": "text/x-python",
   "name": "python",
   "nbconvert_exporter": "python",
   "pygments_lexer": "ipython3",
   "version": "3.10.9"
  }
 },
 "nbformat": 4,
 "nbformat_minor": 4
}
