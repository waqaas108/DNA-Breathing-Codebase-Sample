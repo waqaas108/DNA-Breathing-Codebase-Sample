{
 "cells": [
  {
   "cell_type": "code",
   "execution_count": 1,
   "id": "e9d5578e-8a14-446b-b59a-427a59bed707",
   "metadata": {},
   "outputs": [],
   "source": [
    "import pickle\n",
    "import torch\n",
    "import numpy as np"
   ]
  },
  {
   "cell_type": "code",
   "execution_count": 2,
   "id": "13c22416-30f8-4319-9538-0a0d4ed29003",
   "metadata": {},
   "outputs": [],
   "source": [
    "with open('../../data/Chipseq_data/seq_normalized_breathing_feat.pkl', 'rb') as f:\n",
    "    seq_feat = pickle.load(f)"
   ]
  },
  {
   "cell_type": "code",
   "execution_count": 7,
   "id": "93c434e5-2bee-49ae-b4bb-9dbfae0e4199",
   "metadata": {},
   "outputs": [],
   "source": [
    "feat_map = torch.load('../../data/Chipseq_data/FeatMap.pt')\n",
    "feat_map = {v: k for k, v in feat_map.items()}"
   ]
  },
  {
   "cell_type": "code",
   "execution_count": 9,
   "id": "24839892-ae9d-469d-be36-7ec2a9dbfa70",
   "metadata": {},
   "outputs": [],
   "source": [
    "group_index = torch.load('../../data/Chipseq_data/group_index.pt')"
   ]
  },
  {
   "cell_type": "code",
   "execution_count": 3,
   "id": "6d176ba4-f3bf-4ddb-a9bb-847bceac39dd",
   "metadata": {},
   "outputs": [],
   "source": [
    "merged_dataset = dict()"
   ]
  },
  {
   "cell_type": "code",
   "execution_count": 4,
   "id": "03a6e920-736a-4585-8c9b-56514b1c82de",
   "metadata": {},
   "outputs": [],
   "source": [
    "for partition in seq_feat:\n",
    "    current_partition = seq_feat[partition]\n",
    "    for k, v in current_partition.items():\n",
    "        merged_dataset[f'{k}'] = v"
   ]
  },
  {
   "cell_type": "code",
   "execution_count": 6,
   "id": "202b100b-2a92-4628-9f24-b954ddad8c59",
   "metadata": {},
   "outputs": [
    {
     "data": {
      "text/plain": [
       "886625"
      ]
     },
     "execution_count": 6,
     "metadata": {},
     "output_type": "execute_result"
    }
   ],
   "source": [
    "for k, v in merged_dataset.items():\n",
    "    "
   ]
  },
  {
   "cell_type": "code",
   "execution_count": 5,
   "id": "23f0636f-a3e3-4495-bfa7-60915350f0dc",
   "metadata": {},
   "outputs": [],
   "source": [
    "with open('../../data/Chipseq_data/seq_zero_breathing_feat.pkl', \"wb\") as file:\n",
    "    pickle.dump(seq_feat, file)"
   ]
  }
 ],
 "metadata": {
  "kernelspec": {
   "display_name": "Python 3 (ipykernel)",
   "language": "python",
   "name": "python3"
  },
  "language_info": {
   "codemirror_mode": {
    "name": "ipython",
    "version": 3
   },
   "file_extension": ".py",
   "mimetype": "text/x-python",
   "name": "python",
   "nbconvert_exporter": "python",
   "pygments_lexer": "ipython3",
   "version": "3.9.12"
  }
 },
 "nbformat": 4,
 "nbformat_minor": 5
}
